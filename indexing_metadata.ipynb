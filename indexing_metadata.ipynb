{
  "nbformat": 4,
  "nbformat_minor": 0,
  "metadata": {
    "colab": {
      "provenance": [],
      "authorship_tag": "ABX9TyMlcOY9/h1SN3ikzQVOEoQF",
      "include_colab_link": true
    },
    "kernelspec": {
      "name": "python3",
      "display_name": "Python 3"
    },
    "language_info": {
      "name": "python"
    }
  },
  "cells": [
    {
      "cell_type": "markdown",
      "metadata": {
        "id": "view-in-github",
        "colab_type": "text"
      },
      "source": [
        "<a href=\"https://colab.research.google.com/github/kinjaljoshi/ma_rag_components/blob/master/indexing_metadata.ipynb\" target=\"_parent\"><img src=\"https://colab.research.google.com/assets/colab-badge.svg\" alt=\"Open In Colab\"/></a>"
      ]
    },
    {
      "cell_type": "markdown",
      "source": [
        "## Following code shows storing table context and api context in vector DB"
      ],
      "metadata": {
        "id": "QxOoqeAZCaGQ"
      }
    },
    {
      "cell_type": "code",
      "source": [
        "!pip install langchain faiss-cpu huggingface-hub langchain_community"
      ],
      "metadata": {
        "id": "aGVPYvcVDNOW"
      },
      "execution_count": null,
      "outputs": []
    },
    {
      "cell_type": "code",
      "execution_count": 7,
      "metadata": {
        "colab": {
          "base_uri": "https://localhost:8080/"
        },
        "id": "pKoV5X70CVn-",
        "outputId": "c5fdb2c6-40ef-4928-9442-000fca0bfd5a"
      },
      "outputs": [
        {
          "output_type": "stream",
          "name": "stdout",
          "text": [
            "Generating embeddings...\n",
            "Successfully generated embeddings\n"
          ]
        }
      ],
      "source": [
        "from langchain.embeddings import HuggingFaceEmbeddings\n",
        "from langchain.vectorstores import FAISS\n",
        "from langchain.schema import Document\n",
        "import os\n",
        "\n",
        "embedding_model = HuggingFaceEmbeddings(\n",
        "    model_name=\"sentence-transformers/all-MiniLM-L6-v2\"\n",
        ")\n",
        "\n",
        "# === Step 1: Create DB Embeddings\n",
        "sales_order = Document(\n",
        "    page_content=\"\"\"\n",
        "    Table: sales_orders Description: Contains all sales order transactions with customer and amount.\n",
        "    Columns:\n",
        "    so_id : 'Unique Sales Order Identifier',\n",
        "    customer_id : 'Customer Identifier' ,\n",
        "    total_amount : 'Sales Order Amount',\n",
        "    order_date : 'Sales Order Date'\n",
        "    \"\"\",\n",
        "    metadata={\n",
        "        \"object_name\": \"sales_orders\",\n",
        "        \"object_type\": \"table\",\n",
        "        \"access_method\": \"sql\",\n",
        "        \"table_name\": \"sales.sales_orders\"\n",
        "    }\n",
        ")\n",
        "\n",
        "\n",
        "sales_order_status = Document(\n",
        "    page_content=\"\"\"\n",
        "    Table: sales_order_status Description: Tracks the latest status of each sales order (e.g., shipped, invoiced).\n",
        "    Columns:\n",
        "    so_id : 'Unique Sales Order Identifier',\n",
        "    status : 'Sales Order Status'\n",
        "    \"\"\",\n",
        "    metadata={\n",
        "        \"object_name\": \"sales_order_status\",\n",
        "        \"object_type\": \"table\",\n",
        "        \"access_method\": \"sql\",\n",
        "        \"source\": \"bigquery\",\n",
        "        \"table_name\": \"sales.sales_order_status\"\n",
        "    }\n",
        ")\n",
        "\n",
        "# === Step 2: Create API Embeddings\n",
        "\n",
        "purchase_order = Document(\n",
        "    page_content=\"\"\"\n",
        "    API Object: Purchase Order\n",
        "    Endpoint: /api/purchase-orders\n",
        "    Fields: po_id (string), vendor_id (string), amount (float), status (string)\n",
        "    Description: Retrieves purchase orders from the ERP system.\n",
        "    Sample response: {\"po_id\": \"PO123\", \"vendor_id\": \"VEND001\", \"amount\": 10000, \"status\": \"approved\"}\n",
        "    \"\"\",\n",
        "    metadata={\n",
        "        \"object_name\": \"purchase_orders\",\n",
        "        \"object_type\": \"api\",\n",
        "        \"access_method\": \"api\",\n",
        "        \"source\": \"erp\",\n",
        "        \"endpoint\": \"/api/purchase-orders\"\n",
        "    }\n",
        ")\n",
        "\n",
        "purchase_order_lines = Document(\n",
        "    page_content=\"\"\"\n",
        "    API Object: Purchase Order Line Items\n",
        "    Endpoint: /api/purchase-orders/line-items\n",
        "    Fields: po_id (string), item_id (string), sku (string), quantity (int), unit_price (float)\n",
        "    Description: Provides line-item level detail for each purchase order.\n",
        "    Sample response: {\"po_id\": \"PO123\", \"item_id\": \"ITEM999\", \"sku\": \"SKU789\", \"quantity\": 4, \"unit_price\": 2500}\n",
        "    \"\"\",\n",
        "    metadata={\n",
        "        \"object_name\": \"purchase_order_lines\",\n",
        "        \"object_type\": \"api\",\n",
        "        \"access_method\": \"api\",\n",
        "        \"source\": \"erp\",\n",
        "        \"endpoint\": \"/api/purchase-orders/line-items\"\n",
        "    }\n",
        ")\n",
        "\n",
        "# === Step 3: Generate Embeddings and Store in FAISS ===\n",
        "\n",
        "documents = [\n",
        "    sales_order,\n",
        "    sales_order_status,\n",
        "    purchase_order,\n",
        "    purchase_order_lines\n",
        "]\n",
        "\n",
        "print(\"Generating embeddings...\")\n",
        "faiss_vectorstore = FAISS.from_documents(documents, embedding_model)\n",
        "\n",
        "# === Step 4: Save FAISS Index Locally ===\n",
        "faiss_vectorstore.save_local(\"faiss_embeddings\")\n",
        "\n",
        "print(\"Successfully generated embeddings\")\n"
      ]
    },
    {
      "cell_type": "code",
      "source": [
        "faiss_vectorstore = FAISS.load_local(\"/content/faiss_embeddings\", embedding_model, allow_dangerous_deserialization=True)\n",
        "query = \"Get purchase order details\"\n",
        "results = faiss_vectorstore.similarity_search(query, k=2)\n",
        "\n",
        "for doc in results:\n",
        "    print(\"\\n--- Match ---\")\n",
        "    print(\"Object Name:\", doc.metadata[\"object_name\"])\n",
        "    print(\"Object Type:\", doc.metadata[\"object_type\"])\n",
        "    print(doc.page_content[:1000])\n"
      ],
      "metadata": {
        "colab": {
          "base_uri": "https://localhost:8080/"
        },
        "id": "IyKNGgdGDpYO",
        "outputId": "0b946158-fbb0-4356-cfc6-c40e841afce0"
      },
      "execution_count": 16,
      "outputs": [
        {
          "output_type": "stream",
          "name": "stdout",
          "text": [
            "\n",
            "--- Match ---\n",
            "Object Name: purchase_orders\n",
            "Object Type: api\n",
            "\n",
            "    API Object: Purchase Order\n",
            "    Endpoint: /api/purchase-orders\n",
            "    Fields: po_id (string), vendor_id (string), amount (float), status (string)\n",
            "    Description: Retrieves purchase orders from the ERP system.\n",
            "    Sample response: {\"po_id\": \"PO123\", \"vendor_id\": \"VEND001\", \"amount\": 10000, \"status\": \"approved\"}\n",
            "    \n",
            "\n",
            "--- Match ---\n",
            "Object Name: purchase_order_items\n",
            "Object Type: api\n",
            "\n",
            "    API Object: Purchase Order Line Items\n",
            "    Endpoint: /api/purchase-orders/line-items\n",
            "    Fields: po_id (string), item_id (string), sku (string), quantity (int), unit_price (float)\n",
            "    Description: Provides line-item level detail for each purchase order.\n",
            "    Sample response: {\"po_id\": \"PO123\", \"item_id\": \"ITEM999\", \"sku\": \"SKU789\", \"quantity\": 4, \"unit_price\": 2500}\n",
            "    \n"
          ]
        }
      ]
    },
    {
      "cell_type": "code",
      "source": [
        "query = \"Get Sales order details\"\n",
        "results = faiss_vectorstore.similarity_search(query, k=2)\n",
        "\n",
        "for doc in results:\n",
        "    print(\"\\n--- Match ---\")\n",
        "    print(\"Object Name:\", doc.metadata[\"object_name\"])\n",
        "    print(\"Object Type:\", doc.metadata[\"object_type\"])\n",
        "    print(doc.page_content[:1000])\n"
      ],
      "metadata": {
        "colab": {
          "base_uri": "https://localhost:8080/"
        },
        "id": "FKKR0IUPG1Cj",
        "outputId": "b5beade8-f58d-4fbc-ab72-ee776d9c48d5"
      },
      "execution_count": 17,
      "outputs": [
        {
          "output_type": "stream",
          "name": "stdout",
          "text": [
            "\n",
            "--- Match ---\n",
            "Object Name: sales_order_status\n",
            "Object Type: table\n",
            "\n",
            "    Table: sales_order_status Description: Tracks the latest status of each sales order (e.g., shipped, invoiced).\n",
            "    Columns: \n",
            "    so_id : 'Unique Sales Order Identifier',\n",
            "    status : 'Sales Order Status'    \n",
            "    \n",
            "\n",
            "--- Match ---\n",
            "Object Name: sales_orders\n",
            "Object Type: table\n",
            "\n",
            "    Table: sales_orders Description: Contains all sales order transactions with customer and amount.\n",
            "    Columns: \n",
            "    so_id : 'Unique Sales Order Identifier', \n",
            "    customer_id : 'Customer Identifier' ,\n",
            "    total_amount : 'Sales Order Amount',\n",
            "    order_date : 'Sales Order Date'\n",
            "    \n"
          ]
        }
      ]
    }
  ]
}