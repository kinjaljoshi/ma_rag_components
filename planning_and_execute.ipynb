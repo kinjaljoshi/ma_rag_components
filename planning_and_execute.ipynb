{
  "nbformat": 4,
  "nbformat_minor": 0,
  "metadata": {
    "colab": {
      "provenance": [],
      "authorship_tag": "ABX9TyPWRaUxdco1AvAsRrfefmb2",
      "include_colab_link": true
    },
    "kernelspec": {
      "name": "python3",
      "display_name": "Python 3"
    },
    "language_info": {
      "name": "python"
    }
  },
  "cells": [
    {
      "cell_type": "markdown",
      "metadata": {
        "id": "view-in-github",
        "colab_type": "text"
      },
      "source": [
        "<a href=\"https://colab.research.google.com/github/kinjaljoshi/ma_rag_components/blob/master/planning_and_execute.ipynb\" target=\"_parent\"><img src=\"https://colab.research.google.com/assets/colab-badge.svg\" alt=\"Open In Colab\"/></a>"
      ]
    },
    {
      "cell_type": "code",
      "source": [
        "!pip install langchain-community langchain-experimental\n",
        "!pip install --upgrade langchain"
      ],
      "metadata": {
        "id": "qAb7AH4EY-pS"
      },
      "execution_count": null,
      "outputs": []
    },
    {
      "cell_type": "code",
      "execution_count": 31,
      "metadata": {
        "id": "7hemiKuqYrZG"
      },
      "outputs": [],
      "source": [
        "object_routing_registry = {\n",
        "    \"purchase_order\": {\n",
        "        \"access_method\": \"api\",\n",
        "        \"endpoint\": \"/api/purchase-orders\"\n",
        "    },\n",
        "    \"sales_order\": {\n",
        "        \"access_method\": \"api\",\n",
        "        \"endpoint\": \"/api/sale-orders\"\n",
        "    },\n",
        "    \"__default__\": {\n",
        "        \"access_method\": \"sql\"\n",
        "    }\n",
        "}\n"
      ]
    },
    {
      "cell_type": "code",
      "source": [
        "from langchain.chat_models import ChatOpenAI\n",
        "from langchain.prompts import PromptTemplate\n",
        "from langchain.chains import LLMChain\n",
        "import os\n",
        "from google.colab import userdata\n",
        "\n",
        "\n",
        "\n",
        "api_key = userdata.get('OPENAI_API_KEY')\n",
        "os.environ[\"OPENAI_API_KEY\"] = api_key\n",
        "\n",
        "llm = ChatOpenAI(temperature=0)\n",
        "\n",
        "def format_object_descriptions(registry):\n",
        "    return \"\\n\".join([\n",
        "        f\"- {k}: Accessed via {v['access_method'].upper()} at {v.get('endpoint', 'SQL engine')}.\"\n",
        "        for k, v in registry.items()\n",
        "    ])\n",
        "\n",
        "# LLM-based router to find best object name\n",
        "def get_object_for_query(query: str):\n",
        "    prompt = PromptTemplate.from_template(\"\"\"\n",
        "You are an assistant that maps user queries to internal data objects.\n",
        "\n",
        "Available objects:\n",
        "{object_descriptions}\n",
        "\n",
        "Determine the best matching object for the query:\n",
        "\"{query}\"\n",
        "\n",
        "Respond with only the exact object name from the list above, or \"__default__\".\n",
        "\"\"\")\n",
        "\n",
        "    chain = LLMChain(llm=llm, prompt=prompt)\n",
        "    object_descriptions = format_object_descriptions(object_routing_registry)\n",
        "    result = chain.run({\n",
        "        \"object_descriptions\": object_descriptions,\n",
        "        \"query\": query\n",
        "    }).strip()\n",
        "    return result if result in object_routing_registry else \"__default__\"\n"
      ],
      "metadata": {
        "id": "skb2jvaGY2eU"
      },
      "execution_count": 32,
      "outputs": []
    },
    {
      "cell_type": "code",
      "source": [
        "print(format_object_descriptions(object_routing_registry))"
      ],
      "metadata": {
        "colab": {
          "base_uri": "https://localhost:8080/"
        },
        "id": "TlyJFijoZOSV",
        "outputId": "34e1542b-3263-4daf-9887-d891f4a00c66"
      },
      "execution_count": 33,
      "outputs": [
        {
          "output_type": "stream",
          "name": "stdout",
          "text": [
            "- purchase_order: Accessed via API at /api/purchase-orders.\n",
            "- sales_order: Accessed via API at /api/sale-orders.\n",
            "- __default__: Accessed via SQL at SQL engine.\n"
          ]
        }
      ]
    },
    {
      "cell_type": "code",
      "source": [
        "from langchain.agents import Tool\n",
        "\n",
        "def api_agent(query: str) -> str:\n",
        "    obj = get_object_for_query(query)\n",
        "    endpoint = object_routing_registry[obj][\"endpoint\"]\n",
        "    return f\"[API Agent] Called {endpoint} for: '{query}'\"\n",
        "\n",
        "def sql_agent(query: str) -> str:\n",
        "    return f\"[SQL Agent] Executed SQL for: '{query}'\"\n",
        "\n",
        "tools = [\n",
        "    Tool(\n",
        "        name=\"InvokeAPIAgent\",\n",
        "        func=api_agent,\n",
        "        description=\"Use for questions related to purchase_order or sales order objects (via API).\"\n",
        "    ),\n",
        "    Tool(\n",
        "        name=\"InvokeSQLAgent\",\n",
        "        func=sql_agent,\n",
        "        description=\"Use this for anything else that involves querying the database.\"\n",
        "    )\n",
        "]\n"
      ],
      "metadata": {
        "id": "7VGe_nwOZUYo"
      },
      "execution_count": 34,
      "outputs": []
    },
    {
      "cell_type": "code",
      "source": [
        "from langchain.agents import initialize_agent, AgentType\n",
        "\n",
        "agent = initialize_agent(\n",
        "    tools=tools,\n",
        "    llm=llm,\n",
        "    agent=AgentType.ZERO_SHOT_REACT_DESCRIPTION,\n",
        "    verbose=True\n",
        ")\n"
      ],
      "metadata": {
        "id": "koWGT7OAZdo2"
      },
      "execution_count": 35,
      "outputs": []
    },
    {
      "cell_type": "code",
      "source": [
        "agent.run(\"Get all approved purchase orders for last week\")"
      ],
      "metadata": {
        "colab": {
          "base_uri": "https://localhost:8080/",
          "height": 365
        },
        "id": "uykax4xgbXoB",
        "outputId": "0396b446-dd73-4181-e52a-0502c9826212"
      },
      "execution_count": 36,
      "outputs": [
        {
          "output_type": "stream",
          "name": "stdout",
          "text": [
            "\n",
            "\n",
            "\u001b[1m> Entering new AgentExecutor chain...\u001b[0m\n",
            "\u001b[32;1m\u001b[1;3mI should use the API to retrieve purchase orders\n",
            "Action: InvokeAPIAgent\n",
            "Action Input: query=\"approved purchase orders for last week\"\u001b[0m\n",
            "Observation: \u001b[36;1m\u001b[1;3m[API Agent] Called /api/purchase-orders for: 'query=\"approved purchase orders for last week'\u001b[0m\n",
            "Thought:\u001b[32;1m\u001b[1;3mI need to specify the date range for last week in the query\n",
            "Action: InvokeAPIAgent\n",
            "Action Input: query=\"approved purchase orders for last week\"\u001b[0m\n",
            "Observation: \u001b[36;1m\u001b[1;3m[API Agent] Called /api/purchase-orders for: 'query=\"approved purchase orders for last week'\u001b[0m\n",
            "Thought:\u001b[32;1m\u001b[1;3mI should specify the date range in the query to get the approved purchase orders for last week\n",
            "Action: InvokeAPIAgent\n",
            "Action Input: query=\"approved purchase orders for last week with date range\"\u001b[0m\n",
            "Observation: \u001b[36;1m\u001b[1;3m[API Agent] Called /api/purchase-orders for: 'query=\"approved purchase orders for last week with date range'\u001b[0m\n",
            "Thought:\u001b[32;1m\u001b[1;3mI now know the final answer\n",
            "Final Answer: Get all approved purchase orders for last week by specifying the date range in the query.\u001b[0m\n",
            "\n",
            "\u001b[1m> Finished chain.\u001b[0m\n"
          ]
        },
        {
          "output_type": "execute_result",
          "data": {
            "text/plain": [
              "'Get all approved purchase orders for last week by specifying the date range in the query.'"
            ],
            "application/vnd.google.colaboratory.intrinsic+json": {
              "type": "string"
            }
          },
          "metadata": {},
          "execution_count": 36
        }
      ]
    },
    {
      "cell_type": "code",
      "source": [
        "agent.run(\"Get all Employess expenses for employee id 1234\")"
      ],
      "metadata": {
        "colab": {
          "base_uri": "https://localhost:8080/",
          "height": 226
        },
        "id": "xQUDbmY1b9Jk",
        "outputId": "01172a1c-8f2d-420e-9b47-b3369e2b6ec9"
      },
      "execution_count": 37,
      "outputs": [
        {
          "output_type": "stream",
          "name": "stdout",
          "text": [
            "\n",
            "\n",
            "\u001b[1m> Entering new AgentExecutor chain...\u001b[0m\n",
            "\u001b[32;1m\u001b[1;3mI need to query the database to retrieve the expenses for employee id 1234.\n",
            "Action: InvokeSQLAgent\n",
            "Action Input: SELECT * FROM expenses WHERE employee_id = 1234\u001b[0m\n",
            "Observation: \u001b[33;1m\u001b[1;3m[SQL Agent] Executed SQL for: 'SELECT * FROM expenses WHERE employee_id = 1234'\u001b[0m\n",
            "Thought:\u001b[32;1m\u001b[1;3mI have retrieved the expenses for employee id 1234.\n",
            "Final Answer: All expenses for employee id 1234 have been retrieved.\u001b[0m\n",
            "\n",
            "\u001b[1m> Finished chain.\u001b[0m\n"
          ]
        },
        {
          "output_type": "execute_result",
          "data": {
            "text/plain": [
              "'All expenses for employee id 1234 have been retrieved.'"
            ],
            "application/vnd.google.colaboratory.intrinsic+json": {
              "type": "string"
            }
          },
          "metadata": {},
          "execution_count": 37
        }
      ]
    }
  ]
}